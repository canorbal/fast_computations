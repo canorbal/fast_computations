{
 "cells": [
  {
   "cell_type": "markdown",
   "metadata": {
    "slideshow": {
     "slide_type": "slide"
    }
   },
   "source": [
    "### How to speeeeeeeed up your Python scientific code?\n",
    "\n",
    "* Think about vectorization in numpy\n",
    "* Think about vectorization harder\n",
    "* Really, dude, create a vectorized version"
   ]
  },
  {
   "cell_type": "markdown",
   "metadata": {
    "slideshow": {
     "slide_type": "slide"
    }
   },
   "source": [
    "### Example 1\n",
    "\n",
    "A sum of matrix elements"
   ]
  },
  {
   "cell_type": "code",
   "execution_count": 1,
   "metadata": {
    "slideshow": {
     "slide_type": "slide"
    }
   },
   "outputs": [
    {
     "name": "stdout",
     "output_type": "stream",
     "text": [
      "550 µs ± 45 µs per loop (mean ± std. dev. of 7 runs, 1000 loops each)\n"
     ]
    }
   ],
   "source": [
    "import numpy as np\n",
    "\n",
    "\n",
    "SIZE = 10**3\n",
    "x = np.random.rand(SIZE, SIZE)\n",
    "\n",
    "%timeit x.sum()"
   ]
  },
  {
   "cell_type": "code",
   "execution_count": 2,
   "metadata": {
    "slideshow": {
     "slide_type": "slide"
    }
   },
   "outputs": [
    {
     "name": "stdout",
     "output_type": "stream",
     "text": [
      "249 ms ± 8.52 ms per loop (mean ± std. dev. of 7 runs, 1 loop each)\n"
     ]
    }
   ],
   "source": [
    "def my_sum(x):\n",
    "    sum_x = 0\n",
    "    for i in range(len(x)):\n",
    "        for j in range(len(x[i,:])):\n",
    "            sum_x += x[i, j]\n",
    "    return sum_x\n",
    "\n",
    "%timeit my_sum(x)"
   ]
  },
  {
   "cell_type": "markdown",
   "metadata": {
    "slideshow": {
     "slide_type": "slide"
    }
   },
   "source": [
    "### Example 2\n",
    "\n",
    "Pairwise distances between rows in two matrices"
   ]
  },
  {
   "cell_type": "code",
   "execution_count": 3,
   "metadata": {
    "slideshow": {
     "slide_type": "slide"
    }
   },
   "outputs": [],
   "source": [
    "def pairwise_dists(x, y):\n",
    "    \"\"\"  \n",
    "    Computing pairwise distances\n",
    "\n",
    "    Parameters\n",
    "    ----------\n",
    "    x : numpy.ndarray, shape=(M, D)\n",
    "    y : numpy.ndarray, shape=(N, D)\n",
    "\n",
    "    Returns\n",
    "    -------\n",
    "    numpy.ndarray, shape=(M, N)\n",
    "     The Euclidean distance between each pair of\n",
    "     rows between `x` and `y`.\n",
    "    \"\"\"\n",
    "    raise NotImplementedError()"
   ]
  },
  {
   "cell_type": "markdown",
   "metadata": {
    "slideshow": {
     "slide_type": "slide"
    }
   },
   "source": [
    "### Your ideas??"
   ]
  },
  {
   "cell_type": "code",
   "execution_count": 4,
   "metadata": {
    "slideshow": {
     "slide_type": "slide"
    }
   },
   "outputs": [],
   "source": [
    "def looped_pairwise_dists(x, y):\n",
    "    \"\"\"  \n",
    "    Computing pairwise distances using for-loops\n",
    "\n",
    "    Parameters\n",
    "    ----------\n",
    "    x : numpy.ndarray, shape=(M, D)\n",
    "    y : numpy.ndarray, shape=(N, D)\n",
    "\n",
    "    Returns\n",
    "    -------\n",
    "    numpy.ndarray, shape=(M, N)\n",
    "     The Euclidean distance between each pair of\n",
    "     rows between `x` and `y`.\n",
    "    \"\"\"\n",
    "    # `dists[i, j]` will store the Euclidean\n",
    "    # distance between  `x[i]` and `y[j]`\n",
    "    dists = np.empty((x.shape[0], y.shape[0]))\n",
    "\n",
    "    for i, row_x in enumerate(x):     # loops over rows of `x`\n",
    "        for j, row_y in enumerate(y): # loops over rows of `y`\n",
    "            # Subtract corresponding entries of the rows,\n",
    "            # squares each difference, and then sums them. This\n",
    "            # exactly matches our equation for Euclidean\n",
    "            # distance (we will do the square root later)\n",
    "            dists[i, j] = np.sum((row_x - row_y)**2)\n",
    "\n",
    "    # we still need to take the square root of\n",
    "    # each of our numbers\n",
    "    return np.sqrt(dists)"
   ]
  },
  {
   "cell_type": "markdown",
   "metadata": {
    "slideshow": {
     "slide_type": "slide"
    }
   },
   "source": [
    "### Numpy broadcasting!\n",
    "\n",
    "Rules of Broadcasting:\n",
    "\n",
    "* the aligned dimensions have the same size\n",
    "* one of the dimensions has a size of 1\n",
    "\n",
    "The two arrays are broadcast-compatible if either of these conditions are satisfied for each pair of aligned dimensions."
   ]
  },
  {
   "cell_type": "markdown",
   "metadata": {
    "slideshow": {
     "slide_type": "slide"
    }
   },
   "source": [
    "### A very quick reminders:\n",
    "\n",
    "     array-1:         8\n",
    "     array-2: 5 x 2 x 8\n",
    "     result-shape: 5 x 2 x 8\n",
    "     --------\n",
    "\n",
    "     array-1:     5 x 2\n",
    "     array-2: 5 x 4 x 2\n",
    "     result-shape: INCOMPATIBLE\n",
    "     --------\n",
    "\n",
    "     array-1: 5 x 1 x 3 x 2\n",
    "     array-2:     9 x 1 x 2\n",
    "     result-shape: 5 x 9 x 3 x 2\n",
    "     --------\n",
    "\n",
    "     array-1: 1 x 3 x 2\n",
    "     array-2:     8 x 2\n",
    "     result-shape: INCOMPATIBLE\n",
    "     --------\n",
    "\n",
    "     array-1: 2 x 1\n",
    "     array-2:     1\n",
    "     result-shape: 2 x 1\n",
    "     --------"
   ]
  },
  {
   "cell_type": "markdown",
   "metadata": {
    "slideshow": {
     "slide_type": "slide"
    }
   },
   "source": [
    "### So what about pairwise distance??"
   ]
  },
  {
   "cell_type": "code",
   "execution_count": 5,
   "metadata": {
    "slideshow": {
     "slide_type": "slide"
    }
   },
   "outputs": [],
   "source": [
    "def numpy_pairwise_dists(x, y):\n",
    "    \"\"\"  \n",
    "    Computing pairwise distances using for-loops\n",
    "\n",
    "    Parameters\n",
    "    ----------\n",
    "    x : numpy.ndarray, shape=(M, D)\n",
    "    y : numpy.ndarray, shape=(N, D)\n",
    "\n",
    "    Returns\n",
    "    -------\n",
    "    numpy.ndarray, shape=(M, N)\n",
    "     The Euclidean distance between each pair of\n",
    "     rows between `x` and `y`.\n",
    "    \"\"\"\n",
    "    # x[:, np.newaxis] is (M, 1, D)\n",
    "    # y[np.newaxis] is (1, N, D)\n",
    "    # x[:, np.newaxis] - y[np.newaxis] is (M, N, D)\n",
    "    # sum over the last axis\n",
    "    return np.sqrt(np.sum((x[:, np.newaxis] - y[np.newaxis])**2, axis=2))"
   ]
  },
  {
   "cell_type": "code",
   "execution_count": 6,
   "metadata": {
    "slideshow": {
     "slide_type": "slide"
    }
   },
   "outputs": [
    {
     "name": "stdout",
     "output_type": "stream",
     "text": [
      "looped version\n",
      "300 ms ± 13.5 ms per loop (mean ± std. dev. of 7 runs, 1 loop each)\n",
      "numpy version\n",
      "10.2 ms ± 623 µs per loop (mean ± std. dev. of 7 runs, 100 loops each)\n"
     ]
    }
   ],
   "source": [
    "M = 100\n",
    "N = 500\n",
    "D = 64\n",
    "\n",
    "x = np.random.rand(M, D).astype(np.float32)\n",
    "y = np.random.rand(N, D).astype(np.float32)\n",
    "\n",
    "print('looped version')\n",
    "%timeit looped_pairwise_dists(x, y)\n",
    "\n",
    "print('numpy version')\n",
    "%timeit numpy_pairwise_dists(x, y)"
   ]
  },
  {
   "cell_type": "markdown",
   "metadata": {
    "slideshow": {
     "slide_type": "slide"
    }
   },
   "source": [
    "### Example 3\n",
    "\n",
    "When are you one hundred percent sure to fail with vectorization?\n",
    "\n",
    "* **Recursive functions with unknown number of iterations!**"
   ]
  },
  {
   "cell_type": "markdown",
   "metadata": {
    "slideshow": {
     "slide_type": "slide"
    }
   },
   "source": [
    "### What to do if you are fail with vectorization?\n",
    "\n",
    "There are three ways\n",
    "\n",
    "* make a parallel computation (multithreading, multiprocessing, joblib)\n",
    "* optimize your Python byte code (Numba, Py-Py)\n",
    "* write your custom C/C++ lib and use it directly in your Python (Cython, Boost)\n",
    "    "
   ]
  },
  {
   "cell_type": "markdown",
   "metadata": {
    "slideshow": {
     "slide_type": "slide"
    }
   },
   "source": [
    "![](./figures/numba_love.png)"
   ]
  },
  {
   "cell_type": "markdown",
   "metadata": {
    "slideshow": {
     "slide_type": "slide"
    }
   },
   "source": [
    "## Numba\n",
    "\n",
    "* an open source JIT compiler that translates a subset of Python and NumPy code into fast machine code.\n",
    "* could be install from conda, pip or source"
   ]
  },
  {
   "cell_type": "markdown",
   "metadata": {
    "slideshow": {
     "slide_type": "slide"
    }
   },
   "source": [
    "## Numba limitations\n",
    "\n",
    "* Numba compiles individual functions. Not whole programs like e.g. PyPy\n",
    "    \n",
    "    \n",
    "* Numba supports a subset of Python. Some dict/list/set support, but not mixed types for keys or values\n",
    "\n",
    "\n",
    "* Numba supports a subset of Numpy"
   ]
  },
  {
   "cell_type": "markdown",
   "metadata": {
    "slideshow": {
     "slide_type": "slide"
    }
   },
   "source": [
    "![](./figures/numba_works.png)"
   ]
  },
  {
   "cell_type": "markdown",
   "metadata": {
    "slideshow": {
     "slide_type": "slide"
    }
   },
   "source": [
    "### Example 2\n",
    "\n",
    "How to compute pairwise distance between vectors in two matrices"
   ]
  },
  {
   "cell_type": "code",
   "execution_count": 7,
   "metadata": {
    "slideshow": {
     "slide_type": "slide"
    }
   },
   "outputs": [],
   "source": [
    "import numba\n",
    "from numba import jit\n",
    "from numba import float32\n",
    "\n",
    "\n",
    "@jit(signature_or_function=float32[:,:](float32[:,:], float32[:,:]), nopython=True)\n",
    "def jit_pairwise_dists_looped(x, y):\n",
    "    \"\"\" \n",
    "    Computing pairwise distances using for-loops\n",
    "\n",
    "    Parameters\n",
    "    ----------\n",
    "    x : numpy.ndarray, shape=(M, D)\n",
    "    y : numpy.ndarray, shape=(N, D)\n",
    "\n",
    "    Returns\n",
    "    -------\n",
    "    numpy.ndarray, shape=(M, N)\n",
    "     The Euclidean distance between each pair of\n",
    "     rows between `x` and `y`.\n",
    "    \"\"\"\n",
    "    dists = np.zeros((x.shape[0], y.shape[0]), dtype=np.float32)\n",
    "\n",
    "    for i in range(len(x)):\n",
    "        for j in range(len(y)):\n",
    "            dists[i, j] = np.sum((x[i,:] - y[j,:])**2)\n",
    "\n",
    "    return np.sqrt(dists)"
   ]
  },
  {
   "cell_type": "code",
   "execution_count": 8,
   "metadata": {
    "slideshow": {
     "slide_type": "slide"
    }
   },
   "outputs": [
    {
     "data": {
      "text/plain": [
       "['bla', 'bla', 'bla']"
      ]
     },
     "execution_count": 8,
     "metadata": {},
     "output_type": "execute_result"
    }
   ],
   "source": [
    "@numba.jit\n",
    "def f(n):\n",
    "    return n * ['bla']\n",
    "\n",
    "f(3)"
   ]
  },
  {
   "cell_type": "code",
   "execution_count": 9,
   "metadata": {
    "slideshow": {
     "slide_type": "slide"
    }
   },
   "outputs": [
    {
     "ename": "TypingError",
     "evalue": "Failed in nopython mode pipeline (step: nopython frontend)\n\u001b[1m\u001b[1mInvalid use of * with parameters (int64, list(const('bla')))\nKnown signatures:\n * (int64, int64) -> int64\n * (int64, uint64) -> int64\n * (uint64, int64) -> int64\n * (uint64, uint64) -> uint64\n * (float32, float32) -> float32\n * (float64, float64) -> float64\n * (complex64, complex64) -> complex64\n * (complex128, complex128) -> complex128\n * parameterized\u001b[0m\n\u001b[0m\u001b[1m[1] During: typing of intrinsic-call at <ipython-input-9-58cb10259b7f> (3)\u001b[0m\n\u001b[1m\nFile \"<ipython-input-9-58cb10259b7f>\", line 3:\u001b[0m\n\u001b[1mdef f(n):\n\u001b[1m    return n * ['bla']\n\u001b[0m    \u001b[1m^\u001b[0m\u001b[0m\n\nThis is not usually a problem with Numba itself but instead often caused by\nthe use of unsupported features or an issue in resolving types.\n\nTo see Python/NumPy features supported by the latest release of Numba visit:\nhttp://numba.pydata.org/numba-doc/dev/reference/pysupported.html\nand\nhttp://numba.pydata.org/numba-doc/dev/reference/numpysupported.html\n\nFor more information about typing errors and how to debug them visit:\nhttp://numba.pydata.org/numba-doc/latest/user/troubleshoot.html#my-code-doesn-t-compile\n\nIf you think your code should work with Numba, please report the error message\nand traceback, along with a minimal reproducer at:\nhttps://github.com/numba/numba/issues/new\n",
     "output_type": "error",
     "traceback": [
      "\u001b[0;31m---------------------------------------------------------------------------\u001b[0m",
      "\u001b[0;31mTypingError\u001b[0m                               Traceback (most recent call last)",
      "\u001b[0;32m<ipython-input-9-58cb10259b7f>\u001b[0m in \u001b[0;36m<module>\u001b[0;34m()\u001b[0m\n\u001b[1;32m      3\u001b[0m     \u001b[0;32mreturn\u001b[0m \u001b[0mn\u001b[0m \u001b[0;34m*\u001b[0m \u001b[0;34m[\u001b[0m\u001b[0;34m'bla'\u001b[0m\u001b[0;34m]\u001b[0m\u001b[0;34m\u001b[0m\u001b[0m\n\u001b[1;32m      4\u001b[0m \u001b[0;34m\u001b[0m\u001b[0m\n\u001b[0;32m----> 5\u001b[0;31m \u001b[0mf\u001b[0m\u001b[0;34m(\u001b[0m\u001b[0;36m3\u001b[0m\u001b[0;34m)\u001b[0m\u001b[0;34m\u001b[0m\u001b[0m\n\u001b[0m",
      "\u001b[0;32m/usr/local/lib/python3.6/site-packages/numba/dispatcher.py\u001b[0m in \u001b[0;36m_compile_for_args\u001b[0;34m(self, *args, **kws)\u001b[0m\n\u001b[1;32m    346\u001b[0m                 \u001b[0me\u001b[0m\u001b[0;34m.\u001b[0m\u001b[0mpatch_message\u001b[0m\u001b[0;34m(\u001b[0m\u001b[0mmsg\u001b[0m\u001b[0;34m)\u001b[0m\u001b[0;34m\u001b[0m\u001b[0m\n\u001b[1;32m    347\u001b[0m \u001b[0;34m\u001b[0m\u001b[0m\n\u001b[0;32m--> 348\u001b[0;31m             \u001b[0merror_rewrite\u001b[0m\u001b[0;34m(\u001b[0m\u001b[0me\u001b[0m\u001b[0;34m,\u001b[0m \u001b[0;34m'typing'\u001b[0m\u001b[0;34m)\u001b[0m\u001b[0;34m\u001b[0m\u001b[0m\n\u001b[0m\u001b[1;32m    349\u001b[0m         \u001b[0;32mexcept\u001b[0m \u001b[0merrors\u001b[0m\u001b[0;34m.\u001b[0m\u001b[0mUnsupportedError\u001b[0m \u001b[0;32mas\u001b[0m \u001b[0me\u001b[0m\u001b[0;34m:\u001b[0m\u001b[0;34m\u001b[0m\u001b[0m\n\u001b[1;32m    350\u001b[0m             \u001b[0;31m# Something unsupported is present in the user code, add help info\u001b[0m\u001b[0;34m\u001b[0m\u001b[0;34m\u001b[0m\u001b[0m\n",
      "\u001b[0;32m/usr/local/lib/python3.6/site-packages/numba/dispatcher.py\u001b[0m in \u001b[0;36merror_rewrite\u001b[0;34m(e, issue_type)\u001b[0m\n\u001b[1;32m    313\u001b[0m                 \u001b[0;32mraise\u001b[0m \u001b[0me\u001b[0m\u001b[0;34m\u001b[0m\u001b[0m\n\u001b[1;32m    314\u001b[0m             \u001b[0;32melse\u001b[0m\u001b[0;34m:\u001b[0m\u001b[0;34m\u001b[0m\u001b[0m\n\u001b[0;32m--> 315\u001b[0;31m                 \u001b[0mreraise\u001b[0m\u001b[0;34m(\u001b[0m\u001b[0mtype\u001b[0m\u001b[0;34m(\u001b[0m\u001b[0me\u001b[0m\u001b[0;34m)\u001b[0m\u001b[0;34m,\u001b[0m \u001b[0me\u001b[0m\u001b[0;34m,\u001b[0m \u001b[0;32mNone\u001b[0m\u001b[0;34m)\u001b[0m\u001b[0;34m\u001b[0m\u001b[0m\n\u001b[0m\u001b[1;32m    316\u001b[0m \u001b[0;34m\u001b[0m\u001b[0m\n\u001b[1;32m    317\u001b[0m         \u001b[0margtypes\u001b[0m \u001b[0;34m=\u001b[0m \u001b[0;34m[\u001b[0m\u001b[0;34m]\u001b[0m\u001b[0;34m\u001b[0m\u001b[0m\n",
      "\u001b[0;32m/usr/local/lib/python3.6/site-packages/numba/six.py\u001b[0m in \u001b[0;36mreraise\u001b[0;34m(tp, value, tb)\u001b[0m\n\u001b[1;32m    656\u001b[0m             \u001b[0mvalue\u001b[0m \u001b[0;34m=\u001b[0m \u001b[0mtp\u001b[0m\u001b[0;34m(\u001b[0m\u001b[0;34m)\u001b[0m\u001b[0;34m\u001b[0m\u001b[0m\n\u001b[1;32m    657\u001b[0m         \u001b[0;32mif\u001b[0m \u001b[0mvalue\u001b[0m\u001b[0;34m.\u001b[0m\u001b[0m__traceback__\u001b[0m \u001b[0;32mis\u001b[0m \u001b[0;32mnot\u001b[0m \u001b[0mtb\u001b[0m\u001b[0;34m:\u001b[0m\u001b[0;34m\u001b[0m\u001b[0m\n\u001b[0;32m--> 658\u001b[0;31m             \u001b[0;32mraise\u001b[0m \u001b[0mvalue\u001b[0m\u001b[0;34m.\u001b[0m\u001b[0mwith_traceback\u001b[0m\u001b[0;34m(\u001b[0m\u001b[0mtb\u001b[0m\u001b[0;34m)\u001b[0m\u001b[0;34m\u001b[0m\u001b[0m\n\u001b[0m\u001b[1;32m    659\u001b[0m         \u001b[0;32mraise\u001b[0m \u001b[0mvalue\u001b[0m\u001b[0;34m\u001b[0m\u001b[0m\n\u001b[1;32m    660\u001b[0m \u001b[0;34m\u001b[0m\u001b[0m\n",
      "\u001b[0;31mTypingError\u001b[0m: Failed in nopython mode pipeline (step: nopython frontend)\n\u001b[1m\u001b[1mInvalid use of * with parameters (int64, list(const('bla')))\nKnown signatures:\n * (int64, int64) -> int64\n * (int64, uint64) -> int64\n * (uint64, int64) -> int64\n * (uint64, uint64) -> uint64\n * (float32, float32) -> float32\n * (float64, float64) -> float64\n * (complex64, complex64) -> complex64\n * (complex128, complex128) -> complex128\n * parameterized\u001b[0m\n\u001b[0m\u001b[1m[1] During: typing of intrinsic-call at <ipython-input-9-58cb10259b7f> (3)\u001b[0m\n\u001b[1m\nFile \"<ipython-input-9-58cb10259b7f>\", line 3:\u001b[0m\n\u001b[1mdef f(n):\n\u001b[1m    return n * ['bla']\n\u001b[0m    \u001b[1m^\u001b[0m\u001b[0m\n\nThis is not usually a problem with Numba itself but instead often caused by\nthe use of unsupported features or an issue in resolving types.\n\nTo see Python/NumPy features supported by the latest release of Numba visit:\nhttp://numba.pydata.org/numba-doc/dev/reference/pysupported.html\nand\nhttp://numba.pydata.org/numba-doc/dev/reference/numpysupported.html\n\nFor more information about typing errors and how to debug them visit:\nhttp://numba.pydata.org/numba-doc/latest/user/troubleshoot.html#my-code-doesn-t-compile\n\nIf you think your code should work with Numba, please report the error message\nand traceback, along with a minimal reproducer at:\nhttps://github.com/numba/numba/issues/new\n"
     ]
    }
   ],
   "source": [
    "@numba.jit(nopython=True)\n",
    "def f(n):\n",
    "    return n * ['bla']\n",
    "\n",
    "f(3)"
   ]
  },
  {
   "cell_type": "code",
   "execution_count": 10,
   "metadata": {
    "scrolled": false,
    "slideshow": {
     "slide_type": "slide"
    }
   },
   "outputs": [
    {
     "name": "stdout",
     "output_type": "stream",
     "text": [
      "looped version\n",
      "299 ms ± 30.9 ms per loop (mean ± std. dev. of 7 runs, 1 loop each)\n",
      "numpy version\n",
      "10.2 ms ± 889 µs per loop (mean ± std. dev. of 7 runs, 100 loops each)\n",
      "numba version\n",
      "10.4 ms ± 1.6 ms per loop (mean ± std. dev. of 7 runs, 100 loops each)\n"
     ]
    }
   ],
   "source": [
    "M = 100\n",
    "N = 500\n",
    "D = 64\n",
    "\n",
    "x = np.random.rand(M, D).astype(np.float32)\n",
    "y = np.random.rand(N, D).astype(np.float32)\n",
    "\n",
    "print('looped version')\n",
    "%timeit looped_pairwise_dists(x, y)\n",
    "\n",
    "print('numpy version')\n",
    "%timeit numpy_pairwise_dists(x, y)\n",
    "\n",
    "print('numba version')\n",
    "%timeit numpy_pairwise_dists(x, y)"
   ]
  },
  {
   "cell_type": "markdown",
   "metadata": {
    "slideshow": {
     "slide_type": "slide"
    }
   },
   "source": [
    "### Ideal solution is scipy.spatial.distance.cdist!\n",
    "\n",
    "Let's look how close we are"
   ]
  },
  {
   "cell_type": "code",
   "execution_count": 11,
   "metadata": {
    "slideshow": {
     "slide_type": "slide"
    }
   },
   "outputs": [
    {
     "name": "stdout",
     "output_type": "stream",
     "text": [
      "scipy implementation\n",
      "2.77 ms ± 249 µs per loop (mean ± std. dev. of 7 runs, 100 loops each)\n"
     ]
    }
   ],
   "source": [
    "from scipy.spatial.distance import cdist\n",
    "\n",
    "print(\"scipy implementation\")\n",
    "%timeit cdist(x, y)"
   ]
  },
  {
   "cell_type": "code",
   "execution_count": 12,
   "metadata": {
    "slideshow": {
     "slide_type": "slide"
    }
   },
   "outputs": [
    {
     "name": "stdout",
     "output_type": "stream",
     "text": [
      "sequential version\n",
      "16.2 ms ± 1.33 ms per loop (mean ± std. dev. of 7 runs, 100 loops each)\n",
      "parallel version\n",
      "8.24 ms ± 332 µs per loop (mean ± std. dev. of 7 runs, 100 loops each)\n"
     ]
    }
   ],
   "source": [
    "x = np.random.rand(1_000_000)\n",
    "\n",
    "@numba.jit\n",
    "def f(x):\n",
    "    return np.cos(x)**2 + np.sin(x)**2\n",
    "\n",
    "f(x)\n",
    "print('sequential version')\n",
    "%timeit f(x)\n",
    "\n",
    "@numba.jit(parallel=True)\n",
    "def f(x):\n",
    "    return np.cos(x)**2 + np.sin(x)**2\n",
    "\n",
    "f(x)\n",
    "print('parallel version')\n",
    "%timeit f(x)"
   ]
  },
  {
   "cell_type": "markdown",
   "metadata": {
    "slideshow": {
     "slide_type": "slide"
    }
   },
   "source": [
    "### Cython\n",
    "\n",
    "* a superset of the Python\n",
    "* designed to give C-like performance\n",
    "* code in Cython must be compiled\n",
    "* some parts of Scipy, pandas and scikit-learn are written in Cython\n",
    "\n",
    "*The fundamental nature of Cython can be summed up as follows: Cython is Python with C data types.*"
   ]
  },
  {
   "cell_type": "code",
   "execution_count": 14,
   "metadata": {},
   "outputs": [],
   "source": [
    "%load_ext cython"
   ]
  },
  {
   "cell_type": "code",
   "execution_count": 15,
   "metadata": {
    "slideshow": {
     "slide_type": "slide"
    }
   },
   "outputs": [],
   "source": [
    "%%cython\n",
    "import numpy as np\n",
    "cimport numpy as np\n",
    "\n",
    "cpdef np.ndarray[float, ndim=2] cython_pairwise_dists(\n",
    "    np.ndarray[float, ndim=2] x,\n",
    "    np.ndarray[float, ndim=2] y\n",
    "):\n",
    "    \n",
    "    cdef np.ndarray dists = np.zeros((x.shape[0], y.shape[0]))\n",
    "    cdef int i, j = 0\n",
    "    \n",
    "    for i in range(len(x[0])):  \n",
    "        for j in range(len(y[0])): \n",
    "            dists[i, j] = np.sum((x[i,:] - y[j,:])**2)\n",
    "            \n",
    "    return np.sqrt(dists)"
   ]
  },
  {
   "cell_type": "code",
   "execution_count": 16,
   "metadata": {
    "slideshow": {
     "slide_type": "slide"
    }
   },
   "outputs": [
    {
     "name": "stdout",
     "output_type": "stream",
     "text": [
      "27.4 ms ± 4.06 ms per loop (mean ± std. dev. of 7 runs, 10 loops each)\n"
     ]
    }
   ],
   "source": [
    "M = 100\n",
    "N = 500\n",
    "D = 64\n",
    "\n",
    "x = np.random.rand(M, D).astype(np.float32)\n",
    "y = np.random.rand(N, D).astype(np.float32)\n",
    "\n",
    "%timeit cython_pairwise_dists(x, y)"
   ]
  },
  {
   "cell_type": "code",
   "execution_count": 17,
   "metadata": {
    "slideshow": {
     "slide_type": "slide"
    }
   },
   "outputs": [
    {
     "data": {
      "text/html": [
       "<img src=\"https://i.stack.imgur.com/cl4pb.png\"/>"
      ],
      "text/plain": [
       "<IPython.core.display.Image object>"
      ]
     },
     "execution_count": 17,
     "metadata": {},
     "output_type": "execute_result"
    }
   ],
   "source": [
    "from IPython.display import Image\n",
    "from IPython.core.display import HTML \n",
    "Image(url= \"https://i.stack.imgur.com/cl4pb.png\")"
   ]
  },
  {
   "cell_type": "code",
   "execution_count": null,
   "metadata": {},
   "outputs": [],
   "source": []
  }
 ],
 "metadata": {
  "celltoolbar": "Slideshow",
  "kernelspec": {
   "display_name": "Python 3",
   "language": "python",
   "name": "python3"
  },
  "language_info": {
   "codemirror_mode": {
    "name": "ipython",
    "version": 3
   },
   "file_extension": ".py",
   "mimetype": "text/x-python",
   "name": "python",
   "nbconvert_exporter": "python",
   "pygments_lexer": "ipython3",
   "version": "3.6.4"
  }
 },
 "nbformat": 4,
 "nbformat_minor": 2
}
